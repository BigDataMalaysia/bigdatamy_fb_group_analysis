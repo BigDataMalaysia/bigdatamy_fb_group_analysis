{
 "cells": [
  {
   "cell_type": "markdown",
   "metadata": {},
   "source": [
    "# Getting Meta with Big Data Malaysia\n",
    "Scraping the Big Data Malaysia Facebook group for fun. Profit unlikely."
   ]
  },
  {
   "cell_type": "markdown",
   "metadata": {},
   "source": [
    "## Get all the data\n",
    "This notebook assumes you have already prepared a flattened JSON file into `all_the_data.json`, which you would have done by:\n",
    "* Writing your oauth token into `oauth_file` according to the instructions in `pull_feed.py`.\n",
    "* Running `python pull_feed.py` to pull down the feed pages into the BigDataMyData directory.\n",
    "* Running `python flatten_saved_data.py > all_the_data.json`."
   ]
  },
  {
   "cell_type": "code",
   "execution_count": 19,
   "metadata": {
    "collapsed": false
   },
   "outputs": [],
   "source": [
    "import json\n",
    "INPUT_FILE = \"all_the_data.json\"\n",
    "with open(INPUT_FILE, \"r\") as big_data_fd:\n",
    "\tbig_data = json.load(big_data_fd)"
   ]
  },
  {
   "cell_type": "markdown",
   "metadata": {},
   "source": [
    "## Is it big enough?\n",
    "Now we have all our data loaded into variable `big_data`, but can we really say it's Big Data?"
   ]
  },
  {
   "cell_type": "code",
   "execution_count": 20,
   "metadata": {
    "collapsed": false
   },
   "outputs": [
    {
     "name": "stdout",
     "output_type": "stream",
     "text": [
      "We have 1946 posts\n"
     ]
    }
   ],
   "source": [
    "print \"We have {} posts\".format(len(big_data))"
   ]
  },
  {
   "cell_type": "markdown",
   "metadata": {},
   "source": [
    "Wow! So data! Very big!\n",
    "\n",
    "Seriously though... it's not big. In fact it's rather small. How small is small? Here's a clue..."
   ]
  },
  {
   "cell_type": "code",
   "execution_count": 21,
   "metadata": {
    "collapsed": false
   },
   "outputs": [
    {
     "name": "stdout",
     "output_type": "stream",
     "text": [
      "The source file is 3773450 bytes. Pathetic.\n"
     ]
    }
   ],
   "source": [
    "import os\n",
    "print \"The source file is {} bytes. Pathetic.\".format(os.stat(INPUT_FILE).st_size)"
   ]
  },
  {
   "cell_type": "markdown",
   "metadata": {},
   "source": [
    "But size doesn't matter. It's *variety* that counts.\n",
    "\n",
    "## Fields of gold\n",
    "\n",
    "Now we know how many elements (rows I guess?) we have, but how much variety do we have in this data? One measure of this may be to look at the number of fields in each of those items:"
   ]
  },
  {
   "cell_type": "code",
   "execution_count": 40,
   "metadata": {
    "collapsed": false
   },
   "outputs": [
    {
     "name": "stdout",
     "output_type": "stream",
     "text": [
      "We have 30 different field names:\n",
      "set([u'application', u'actions', u'likes', u'created_time', u'message', u'id', u'story', u'from', u'subscribed', u'privacy', u'comments', u'shares', u'to', u'story_tags', u'type', u'status_type', u'picture', u'description', u'object_id', u'link', u'properties', u'icon', u'name', u'message_tags', u'with_tags', u'updated_time', u'caption', u'place', u'source', u'is_hidden'])\n"
     ]
    }
   ],
   "source": [
    "import itertools\n",
    "all_the_fields = set(itertools.chain.from_iterable(big_data))\n",
    "print \"We have {} different field names:\".format(len(all_the_fields))\n",
    "print all_the_fields"
   ]
  },
  {
   "cell_type": "markdown",
   "metadata": {},
   "source": [
    "Are we missing anything? A good way to sanity check things is to actually inspect the data, so let's look at a random item:"
   ]
  },
  {
   "cell_type": "code",
   "execution_count": 12,
   "metadata": {
    "collapsed": false
   },
   "outputs": [
    {
     "name": "stdout",
     "output_type": "stream",
     "text": [
      "{u'actions': [{u'link': u'https://www.facebook.com/497068793653308/posts/1071576142869234',\n",
      "               u'name': u'Comment'},\n",
      "              {u'link': u'https://www.facebook.com/497068793653308/posts/1071576142869234',\n",
      "               u'name': u'Like'},\n",
      "              {u'link': u'/groups/bigdatamy/', u'name': u'Create Group Chat'}],\n",
      " u'caption': u'youtube.com',\n",
      " u'comments': [{u'data': [{u'can_remove': True,\n",
      "                           u'created_time': u'2015-04-04T01:14:40+0000',\n",
      "                           u'from': {u'id': u'10203861474726148',\n",
      "                                     u'name': u'Dickson Lukose'},\n",
      "                           u'id': u'1072127426147439',\n",
      "                           u'like_count': 0,\n",
      "                           u'message': u'Hi Peter, what data formats are supported in this initiative?',\n",
      "                           u'user_likes': False},\n",
      "                          {u'can_remove': True,\n",
      "                           u'created_time': u'2015-04-04T01:43:27+0000',\n",
      "                           u'from': {u'id': u'10152934839784580',\n",
      "                                     u'name': u'Peter Kua'},\n",
      "                           u'id': u'1072137509479764',\n",
      "                           u'like_count': 0,\n",
      "                           u'message': u'Hi Dickson Lukose, any formats that can be easily read by machines, like CSV, Excel, JSON, RSS, plain text, XML, etc.',\n",
      "                           u'message_tags': [{u'id': u'10203861474726148',\n",
      "                                              u'length': 14,\n",
      "                                              u'name': u'Dickson Lukose',\n",
      "                                              u'offset': 3,\n",
      "                                              u'type': u'user'}],\n",
      "                           u'user_likes': False},\n",
      "                          {u'can_remove': True,\n",
      "                           u'created_time': u'2015-04-04T01:46:29+0000',\n",
      "                           u'from': {u'id': u'10203861474726148',\n",
      "                                     u'name': u'Dickson Lukose'},\n",
      "                           u'id': u'1072138846146297',\n",
      "                           u'like_count': 0,\n",
      "                           u'message': u'We need them in RDF format. Can it be published in RDF?',\n",
      "                           u'user_likes': False},\n",
      "                          {u'can_remove': True,\n",
      "                           u'created_time': u'2015-04-04T02:02:38+0000',\n",
      "                           u'from': {u'id': u'10152934839784580',\n",
      "                                     u'name': u'Peter Kua'},\n",
      "                           u'id': u'1072145856145596',\n",
      "                           u'like_count': 0,\n",
      "                           u'message': u\"Dickson Lukose I'm sure we will eventually get to publishing the data in RDF which will bring us closer to semnatic web. As of now, we are still encountering major challenges in galvanizing the mindsets of the agencies and getting them to open and publish what they have, haha!\",\n",
      "                           u'message_tags': [{u'id': u'10203861474726148',\n",
      "                                              u'length': 14,\n",
      "                                              u'name': u'Dickson Lukose',\n",
      "                                              u'offset': 0,\n",
      "                                              u'type': u'user'}],\n",
      "                           u'user_likes': False},\n",
      "                          {u'can_remove': True,\n",
      "                           u'created_time': u'2015-04-04T05:58:57+0000',\n",
      "                           u'from': {u'id': u'10203861474726148',\n",
      "                                     u'name': u'Dickson Lukose'},\n",
      "                           u'id': u'1072262099467305',\n",
      "                           u'like_count': 1,\n",
      "                           u'message': u'let me know if you need any help on the RDF conversion...we have done it for the published GOV DATA....just for our own consumption...also, we have all the necessary tools to convert to RDF.',\n",
      "                           u'user_likes': False}],\n",
      "                u'paging': {u'cursors': {u'after': u'WTI5dGJXVnVkRjlqZFhKemIzSTZNVEEzTWpJMk1qQTVPVFEyTnpNd05Ub3hOREk0TVRJM01UTTM=',\n",
      "                                         u'before': u'WTI5dGJXVnVkRjlqZFhKemIzSTZNVEEzTWpFeU56UXlOakUwTnpRek9Ub3hOREk0TVRFd01EZ3c='}}}],\n",
      " u'created_time': u'2015-04-03T04:49:48+0000',\n",
      " u'description': u'An introductory video of Open Data by Multimedia Development Corporation (MDeC)',\n",
      " u'from': {u'id': u'10152934839784580', u'name': u'Peter Kua'},\n",
      " u'icon': u'https://www.facebook.com/images/icons/post.gif',\n",
      " u'id': u'497068793653308_1071576142869234',\n",
      " u'is_hidden': False,\n",
      " u'likes': {u'data': [{u'id': u'10152082702045918',\n",
      "                       u'name': u'Tan Chor Syhuan \\u9648\\u4f50\\u94e8'},\n",
      "                      {u'id': u'600632896721014', u'name': u'Fci IS'},\n",
      "                      {u'id': u'10152359971244861', u'name': u'Yuvan Kumar'},\n",
      "                      {u'id': u'10203861474726148',\n",
      "                       u'name': u'Dickson Lukose'},\n",
      "                      {u'id': u'10204115522387693', u'name': u'Jon Ong'},\n",
      "                      {u'id': u'446666715482904',\n",
      "                       u'name': u'Maksim Alistratov'},\n",
      "                      {u'id': u'10152415710124319',\n",
      "                       u'name': u'Ng Swee Meng'},\n",
      "                      {u'id': u'10152528794631844',\n",
      "                       u'name': u'Sandra Hanchard'},\n",
      "                      {u'id': u'10204267638073570', u'name': u'Pak Ryu'},\n",
      "                      {u'id': u'10152569565771111',\n",
      "                       u'name': u'Daniel Walters'},\n",
      "                      {u'id': u'1469882369899086', u'name': u'Hadri Hilmi'},\n",
      "                      {u'id': u'10152251275302655',\n",
      "                       u'name': u'Hadzramin Rahman'}],\n",
      "            u'paging': {u'cursors': {u'after': u'MTAxNTIyNTEyNzUzMDI2NTU=',\n",
      "                                     u'before': u'MTAxNTIwODI3MDIwNDU5MTg='}}},\n",
      " u'link': u'https://youtu.be/LIbNiGN2XKw',\n",
      " u'message': u'What is Open Data? This introductory video on Open Data was shown during the National Open Data Strategic Partnership between MDeC and Open Data Institute on 2 April 2015 at Pullman Putrajaya. Visit www.BigDataAnalytics.my for more on our National BDA initiatives.',\n",
      " u'name': u'What is Open Data?',\n",
      " u'picture': u'https://fbexternal-a.akamaihd.net/safe_image.php?d=AQANqEOx2UTqFcYz&w=130&h=130&url=http%3A%2F%2Fi.ytimg.com%2Fvi%2FLIbNiGN2XKw%2Fmaxresdefault.jpg&cfs=1',\n",
      " u'privacy': {u'allow': u'',\n",
      "              u'deny': u'',\n",
      "              u'description': u'',\n",
      "              u'friends': u'',\n",
      "              u'value': u''},\n",
      " u'source': u'https://www.youtube.com/embed/LIbNiGN2XKw?autoplay=1',\n",
      " u'status_type': u'shared_story',\n",
      " u'to': {u'data': [{u'id': u'497068793653308',\n",
      "                    u'name': u'Big Data Malaysia'}]},\n",
      " u'type': u'video',\n",
      " u'updated_time': u'2015-04-04T05:58:57+0000'}\n"
     ]
    }
   ],
   "source": [
    "import random\n",
    "import pprint\n",
    "# re-run this as much as you like to inspect different items\n",
    "pprint.pprint(random.choice(big_data))"
   ]
  },
  {
   "cell_type": "markdown",
   "metadata": {},
   "source": [
    "From that you should be able to sense that we are missing some things - it isn't simply that there are some number of fields that describe each item, because some of those fields have data hierarchies beneath them, for example:"
   ]
  },
  {
   "cell_type": "code",
   "execution_count": 45,
   "metadata": {
    "collapsed": false
   },
   "outputs": [
    {
     "name": "stdout",
     "output_type": "stream",
     "text": [
      "{u'actions': [{u'link': u'https://www.facebook.com/497068793653308/posts/1032324310127751',\n",
      "               u'name': u'Comment'},\n",
      "              {u'link': u'https://www.facebook.com/497068793653308/posts/1032324310127751',\n",
      "               u'name': u'Like'},\n",
      "              {u'link': u'/groups/bigdatamy/', u'name': u'Create Group Chat'}],\n",
      " u'comments': [{u'data': [{u'can_remove': True,\n",
      "                           u'created_time': u'2015-02-02T14:20:46+0000',\n",
      "                           u'from': {u'id': u'10203864949854090',\n",
      "                                     u'name': u'Teuku Faruq'},\n",
      "                           u'id': u'1033140356712813',\n",
      "                           u'like_count': 1,\n",
      "                           u'message': u'Interesting startup, all the best!',\n",
      "                           u'user_likes': False},\n",
      "                          {u'can_remove': True,\n",
      "                           u'created_time': u'2015-02-04T07:45:13+0000',\n",
      "                           u'from': {u'id': u'10203477707997024',\n",
      "                                     u'name': u'Syed Ahmad Fuqaha'},\n",
      "                           u'id': u'1034073379952844',\n",
      "                           u'like_count': 0,\n",
      "                           u'message': u'Thank you Teuku Faruq!',\n",
      "                           u'message_tags': [{u'id': u'10203864949854090',\n",
      "                                              u'length': 11,\n",
      "                                              u'name': u'Teuku Faruq',\n",
      "                                              u'offset': 10,\n",
      "                                              u'type': u'user'}],\n",
      "                           u'user_likes': False}],\n",
      "                u'paging': {u'cursors': {u'after': u'WTI5dGJXVnVkRjlqZFhKemIzSTZNVEF6TkRBM016TTNPVGsxTWpnME5Eb3hOREl6TURNMU9URXo=',\n",
      "                                         u'before': u'WTI5dGJXVnVkRjlqZFhKemIzSTZNVEF6TXpFME1ETTFOamN4TWpneE16b3hOREl5T0RnMk9EUTI='}}}],\n",
      " u'created_time': u'2015-02-01T05:42:29+0000',\n",
      " u'from': {u'id': u'10203477707997024', u'name': u'Syed Ahmad Fuqaha'},\n",
      " u'id': u'497068793653308_1032324310127751',\n",
      " u'is_hidden': False,\n",
      " u'likes': {u'data': [{u'id': u'10202838533911870',\n",
      "                       u'name': u'Firdaus Adib'},\n",
      "                      {u'id': u'10203864949854090', u'name': u'Teuku Faruq'},\n",
      "                      {u'id': u'10152208407631596',\n",
      "                       u'name': u'Bok Cabradilla'},\n",
      "                      {u'id': u'10152535806106552', u'name': u'Brian Ho'},\n",
      "                      {u'id': u'10152539541773459', u'name': u'Mohd Naim'},\n",
      "                      {u'id': u'10152629084603737', u'name': u'Tajul Azhar'},\n",
      "                      {u'id': u'10152569565771111',\n",
      "                       u'name': u'Daniel Walters'},\n",
      "                      {u'id': u'10154115325260227',\n",
      "                       u'name': u'AWoon Haw Brando'},\n",
      "                      {u'id': u'10204389172318345',\n",
      "                       u'name': u'Fairul Syarmil'},\n",
      "                      {u'id': u'10152528794631844',\n",
      "                       u'name': u'Sandra Hanchard'}],\n",
      "            u'paging': {u'cursors': {u'after': u'MTAxNTI1Mjg3OTQ2MzE4NDQ=',\n",
      "                                     u'before': u'MTAyMDI4Mzg1MzM5MTE4NzA='}}},\n",
      " u'message': u'Thank you for the approval. Im part of www.katsana.com, a local startup specializing in GPS tracking & fleet management system. Hope to be able to contribute to this group and learn from the masters.',\n",
      " u'privacy': {u'allow': u'',\n",
      "              u'deny': u'',\n",
      "              u'description': u'',\n",
      "              u'friends': u'',\n",
      "              u'value': u''},\n",
      " u'to': {u'data': [{u'id': u'497068793653308',\n",
      "                    u'name': u'Big Data Malaysia'}]},\n",
      " u'type': u'status',\n",
      " u'updated_time': u'2015-02-04T07:45:13+0000'}\n"
     ]
    }
   ],
   "source": [
    "pprint.pprint(big_data[234])"
   ]
  },
  {
   "cell_type": "markdown",
   "metadata": {},
   "source": [
    "TODO:\n",
    "* Get a cumulative activity timeline"
   ]
  }
 ],
 "metadata": {
  "kernelspec": {
   "display_name": "Python 2",
   "language": "python",
   "name": "python2"
  },
  "language_info": {
   "codemirror_mode": {
    "name": "ipython",
    "version": 2
   },
   "file_extension": ".py",
   "mimetype": "text/x-python",
   "name": "python",
   "nbconvert_exporter": "python",
   "pygments_lexer": "ipython2",
   "version": "2.7.6"
  }
 },
 "nbformat": 4,
 "nbformat_minor": 0
}
