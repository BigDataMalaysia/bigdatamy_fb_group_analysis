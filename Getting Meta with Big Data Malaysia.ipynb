{
 "cells": [
  {
   "cell_type": "markdown",
   "metadata": {},
   "source": [
    "# Getting Meta with Big Data Malaysia\n",
    "Scraping the Big Data Malaysia Facebook group for fun. Profit unlikely."
   ]
  },
  {
   "cell_type": "markdown",
   "metadata": {},
   "source": [
    "## Get all the data\n",
    "This notebook assumes you have already prepared a flattened JSON file into `all_the_data.json`, which you would have done by:\n",
    "* Writing your oauth token into `oauth_file` according to the instructions in `pull_feed.py`.\n",
    "* Running `python pull_feed.py` to pull down the feed pages into the BigDataMyData directory.\n",
    "* Running `python flatten_saved_data.py > all_the_data.json`."
   ]
  },
  {
   "cell_type": "code",
   "execution_count": 181,
   "metadata": {
    "collapsed": false
   },
   "outputs": [],
   "source": [
    "# we need this for later:\n",
    "%matplotlib inline\n",
    "\n",
    "import json\n",
    "INPUT_FILE = \"all_the_data.json\"\n",
    "with open(INPUT_FILE, \"r\") as big_data_fd:\n",
    "\tbig_data = json.load(big_data_fd)"
   ]
  },
  {
   "cell_type": "markdown",
   "metadata": {},
   "source": [
    "## Is it big enough?\n",
    "Now we have all our data loaded into variable `big_data`, but can we really say it's Big Data?"
   ]
  },
  {
   "cell_type": "code",
   "execution_count": 182,
   "metadata": {
    "collapsed": false
   },
   "outputs": [
    {
     "name": "stdout",
     "output_type": "stream",
     "text": [
      "We have 1946 posts\n"
     ]
    }
   ],
   "source": [
    "print \"We have {} posts\".format(len(big_data))"
   ]
  },
  {
   "cell_type": "markdown",
   "metadata": {},
   "source": [
    "Wow! So data! Very big!\n",
    "\n",
    "Seriously though... it's not big. In fact it's rather small. How small is small? Here's a clue..."
   ]
  },
  {
   "cell_type": "code",
   "execution_count": 183,
   "metadata": {
    "collapsed": false
   },
   "outputs": [
    {
     "name": "stdout",
     "output_type": "stream",
     "text": [
      "The source file is 3773450 bytes. Pathetic.\n"
     ]
    }
   ],
   "source": [
    "import os\n",
    "print \"The source file is {} bytes. Pathetic.\".format(os.stat(INPUT_FILE).st_size)"
   ]
  },
  {
   "cell_type": "markdown",
   "metadata": {},
   "source": [
    "At the time this was written, the file was just about 3MB, and there were less than 2k posts... note that excludes comments made on posts, but still, this stuff is small. It is small enough that at no point do we need to do anything terribly clever from a data indexing perspective, so in general everything below will take the simplistic but often appropriate approach of slicing and dicing our `big_data` object directly.\n",
    "\n",
    "Anyway, size doesn't matter. It's *variety* that counts.\n",
    "\n",
    "## Fields of gold\n",
    "\n",
    "Now we know how many elements (rows I guess?) we have, but how much variety do we have in this data? One measure of this may be to look at the number of fields in each of those items:"
   ]
  },
  {
   "cell_type": "code",
   "execution_count": 184,
   "metadata": {
    "collapsed": false
   },
   "outputs": [
    {
     "name": "stdout",
     "output_type": "stream",
     "text": [
      "We have 30 different field names:\n",
      "set([u'application', u'actions', u'likes', u'created_time', u'message', u'id', u'story', u'from', u'subscribed', u'privacy', u'comments', u'shares', u'to', u'story_tags', u'type', u'status_type', u'picture', u'description', u'object_id', u'link', u'properties', u'icon', u'name', u'message_tags', u'with_tags', u'updated_time', u'caption', u'place', u'source', u'is_hidden'])\n"
     ]
    }
   ],
   "source": [
    "import itertools\n",
    "all_the_fields = set(itertools.chain.from_iterable(big_data))\n",
    "print \"We have {} different field names:\".format(len(all_the_fields))\n",
    "print all_the_fields"
   ]
  },
  {
   "cell_type": "markdown",
   "metadata": {},
   "source": [
    "Are we missing anything? A good way to sanity check things is to actually inspect the data, so let's look at a random item:"
   ]
  },
  {
   "cell_type": "code",
   "execution_count": 185,
   "metadata": {
    "collapsed": false
   },
   "outputs": [
    {
     "name": "stdout",
     "output_type": "stream",
     "text": [
      "{u'actions': [{u'link': u'https://www.facebook.com/497068793653308/posts/616526251707561',\n",
      "               u'name': u'Comment'},\n",
      "              {u'link': u'https://www.facebook.com/497068793653308/posts/616526251707561',\n",
      "               u'name': u'Like'},\n",
      "              {u'link': u'/groups/bigdatamy/', u'name': u'Create Group Chat'}],\n",
      " u'comments': [{u'data': [{u'can_remove': True,\n",
      "                           u'created_time': u'2013-03-20T07:31:01+0000',\n",
      "                           u'from': {u'id': u'10152075362431725',\n",
      "                                     u'name': u'Tirath Ramdas'},\n",
      "                           u'id': u'616548381705348',\n",
      "                           u'like_count': 1,\n",
      "                           u'message': u'\"which bar do employees of X hang out at\" sounds like the stuff commercially-sanctioned stalking is made of. It\\'s such a moral gray area, but seems so tantalizingly powerful.',\n",
      "                           u'user_likes': False},\n",
      "                          {u'can_remove': True,\n",
      "                           u'created_time': u'2013-03-20T09:43:05+0000',\n",
      "                           u'from': {u'id': u'10152528794631844',\n",
      "                                     u'name': u'Sandra Hanchard'},\n",
      "                           u'id': u'616598635033656',\n",
      "                           u'like_count': 0,\n",
      "                           u'message': u\"lol. I think we'll see a lot more self-censoring behaviour emerge from users... *un-like dodgy 80s band* .. ;)\",\n",
      "                           u'user_likes': False},\n",
      "                          {u'can_remove': True,\n",
      "                           u'created_time': u'2013-03-20T09:44:34+0000',\n",
      "                           u'from': {u'id': u'10152528794631844',\n",
      "                                     u'name': u'Sandra Hanchard'},\n",
      "                           u'id': u'616604148366438',\n",
      "                           u'like_count': 1,\n",
      "                           u'message': u'and probably a lot more revision/editorial work for social media campaign managers, for politicians for example',\n",
      "                           u'user_likes': True},\n",
      "                          {u'can_remove': True,\n",
      "                           u'created_time': u'2013-03-20T09:46:40+0000',\n",
      "                           u'from': {u'id': u'10152075362431725',\n",
      "                                     u'name': u'Tirath Ramdas'},\n",
      "                           u'id': u'616604555033064',\n",
      "                           u'like_count': 0,\n",
      "                           u'message': u'Hah, shortly after the 2008 election I noticed a newly-elected legislator leave the Facebook group \"Enough with the poking, let\\'s just have sex\" :P',\n",
      "                           u'user_likes': False},\n",
      "                          {u'can_remove': True,\n",
      "                           u'created_time': u'2013-03-20T13:01:24+0000',\n",
      "                           u'from': {u'id': u'10152528794631844',\n",
      "                                     u'name': u'Sandra Hanchard'},\n",
      "                           u'id': u'616659918360861',\n",
      "                           u'like_count': 1,\n",
      "                           u'message': u'Haha! the constraints of high office..',\n",
      "                           u'user_likes': True}],\n",
      "                u'paging': {u'cursors': {u'after': u'WTI5dGJXVnVkRjlqZFhKemIzSTZOakUyTmpVNU9URTRNell3T0RZeE9qRXpOak0zT0RRME9EUT0=',\n",
      "                                         u'before': u'WTI5dGJXVnVkRjlqZFhKemIzSTZOakUyTlRRNE16Z3hOekExTXpRNE9qRXpOak0zTmpRMk5qRT0='}}}],\n",
      " u'created_time': u'2013-03-20T05:39:14+0000',\n",
      " u'from': {u'id': u'10152528794631844', u'name': u'Sandra Hanchard'},\n",
      " u'id': u'497068793653308_616526251707561',\n",
      " u'is_hidden': False,\n",
      " u'likes': {u'data': [{u'id': u'10152569565771111',\n",
      "                       u'name': u'Daniel Walters'}],\n",
      "            u'paging': {u'cursors': {u'after': u'MTAxNTI1Njk1NjU3NzExMTE=',\n",
      "                                     u'before': u'MTAxNTI1Njk1NjU3NzExMTE='}}},\n",
      " u'message': u'via datalicious via@ICIJorg #bigdata #dataviz #datajournalism',\n",
      " u'message_tags': {u'4': [{u'id': u'372360597247',\n",
      "                           u'length': 11,\n",
      "                           u'name': u'datalicious',\n",
      "                           u'offset': 4,\n",
      "                           u'type': u'page'}]},\n",
      " u'privacy': {u'allow': u'',\n",
      "              u'deny': u'',\n",
      "              u'description': u'',\n",
      "              u'friends': u'',\n",
      "              u'value': u''},\n",
      " u'subscribed': True,\n",
      " u'to': {u'data': [{u'id': u'497068793653308',\n",
      "                    u'name': u'Big Data Malaysia'},\n",
      "                   {u'category': u'Local business',\n",
      "                    u'category_list': [{u'id': u'152142351517013',\n",
      "                                        u'name': u'Corporate Office'}],\n",
      "                    u'id': u'372360597247',\n",
      "                    u'name': u'datalicious'}]},\n",
      " u'type': u'status',\n",
      " u'updated_time': u'2013-03-20T13:01:24+0000'}\n"
     ]
    }
   ],
   "source": [
    "import random\n",
    "import pprint\n",
    "# re-run this as much as you like to inspect different items\n",
    "pprint.pprint(random.choice(big_data))"
   ]
  },
  {
   "cell_type": "markdown",
   "metadata": {},
   "source": [
    "From that you should be able to sense that we are missing some things - it isn't simply that there are some number of fields that describe each item, because some of those fields have data hierarchies beneath them, for example:"
   ]
  },
  {
   "cell_type": "code",
   "execution_count": 45,
   "metadata": {
    "collapsed": false
   },
   "outputs": [
    {
     "name": "stdout",
     "output_type": "stream",
     "text": [
      "{u'actions': [{u'link': u'https://www.facebook.com/497068793653308/posts/1032324310127751',\n",
      "               u'name': u'Comment'},\n",
      "              {u'link': u'https://www.facebook.com/497068793653308/posts/1032324310127751',\n",
      "               u'name': u'Like'},\n",
      "              {u'link': u'/groups/bigdatamy/', u'name': u'Create Group Chat'}],\n",
      " u'comments': [{u'data': [{u'can_remove': True,\n",
      "                           u'created_time': u'2015-02-02T14:20:46+0000',\n",
      "                           u'from': {u'id': u'10203864949854090',\n",
      "                                     u'name': u'Teuku Faruq'},\n",
      "                           u'id': u'1033140356712813',\n",
      "                           u'like_count': 1,\n",
      "                           u'message': u'Interesting startup, all the best!',\n",
      "                           u'user_likes': False},\n",
      "                          {u'can_remove': True,\n",
      "                           u'created_time': u'2015-02-04T07:45:13+0000',\n",
      "                           u'from': {u'id': u'10203477707997024',\n",
      "                                     u'name': u'Syed Ahmad Fuqaha'},\n",
      "                           u'id': u'1034073379952844',\n",
      "                           u'like_count': 0,\n",
      "                           u'message': u'Thank you Teuku Faruq!',\n",
      "                           u'message_tags': [{u'id': u'10203864949854090',\n",
      "                                              u'length': 11,\n",
      "                                              u'name': u'Teuku Faruq',\n",
      "                                              u'offset': 10,\n",
      "                                              u'type': u'user'}],\n",
      "                           u'user_likes': False}],\n",
      "                u'paging': {u'cursors': {u'after': u'WTI5dGJXVnVkRjlqZFhKemIzSTZNVEF6TkRBM016TTNPVGsxTWpnME5Eb3hOREl6TURNMU9URXo=',\n",
      "                                         u'before': u'WTI5dGJXVnVkRjlqZFhKemIzSTZNVEF6TXpFME1ETTFOamN4TWpneE16b3hOREl5T0RnMk9EUTI='}}}],\n",
      " u'created_time': u'2015-02-01T05:42:29+0000',\n",
      " u'from': {u'id': u'10203477707997024', u'name': u'Syed Ahmad Fuqaha'},\n",
      " u'id': u'497068793653308_1032324310127751',\n",
      " u'is_hidden': False,\n",
      " u'likes': {u'data': [{u'id': u'10202838533911870',\n",
      "                       u'name': u'Firdaus Adib'},\n",
      "                      {u'id': u'10203864949854090', u'name': u'Teuku Faruq'},\n",
      "                      {u'id': u'10152208407631596',\n",
      "                       u'name': u'Bok Cabradilla'},\n",
      "                      {u'id': u'10152535806106552', u'name': u'Brian Ho'},\n",
      "                      {u'id': u'10152539541773459', u'name': u'Mohd Naim'},\n",
      "                      {u'id': u'10152629084603737', u'name': u'Tajul Azhar'},\n",
      "                      {u'id': u'10152569565771111',\n",
      "                       u'name': u'Daniel Walters'},\n",
      "                      {u'id': u'10154115325260227',\n",
      "                       u'name': u'AWoon Haw Brando'},\n",
      "                      {u'id': u'10204389172318345',\n",
      "                       u'name': u'Fairul Syarmil'},\n",
      "                      {u'id': u'10152528794631844',\n",
      "                       u'name': u'Sandra Hanchard'}],\n",
      "            u'paging': {u'cursors': {u'after': u'MTAxNTI1Mjg3OTQ2MzE4NDQ=',\n",
      "                                     u'before': u'MTAyMDI4Mzg1MzM5MTE4NzA='}}},\n",
      " u'message': u'Thank you for the approval. Im part of www.katsana.com, a local startup specializing in GPS tracking & fleet management system. Hope to be able to contribute to this group and learn from the masters.',\n",
      " u'privacy': {u'allow': u'',\n",
      "              u'deny': u'',\n",
      "              u'description': u'',\n",
      "              u'friends': u'',\n",
      "              u'value': u''},\n",
      " u'to': {u'data': [{u'id': u'497068793653308',\n",
      "                    u'name': u'Big Data Malaysia'}]},\n",
      " u'type': u'status',\n",
      " u'updated_time': u'2015-02-04T07:45:13+0000'}\n"
     ]
    }
   ],
   "source": [
    "pprint.pprint(big_data[234])"
   ]
  },
  {
   "cell_type": "markdown",
   "metadata": {},
   "source": [
    "From that we can see some fields have hierarchies within them, e.g. likes have a list of id dictionaries, which happen to be relatively trivial (names and ids... I wonder why Facebook didn't just post the id and make you look up the name?) but the comment field is a bit more complex, wherein it contains a list of dictionaries with each field potentially being a dictionary of its own, e.g. we can see that the second comment on that post tagged Teuku Faruq:"
   ]
  },
  {
   "cell_type": "code",
   "execution_count": 186,
   "metadata": {
    "collapsed": false
   },
   "outputs": [
    {
     "name": "stdout",
     "output_type": "stream",
     "text": [
      "[{u'id': u'10203864949854090',\n",
      "  u'length': 11,\n",
      "  u'name': u'Teuku Faruq',\n",
      "  u'offset': 10,\n",
      "  u'type': u'user'}]\n"
     ]
    }
   ],
   "source": [
    "pprint.pprint(big_data[234]['comments'][0]['data'][1]['message_tags'])"
   ]
  },
  {
   "cell_type": "markdown",
   "metadata": {},
   "source": [
    "## Data quality annoyances\n",
    "\n",
    "Actually I'm not even sure why the `comments` field is a single entry list. Is that always the case?"
   ]
  },
  {
   "cell_type": "code",
   "execution_count": 187,
   "metadata": {
    "collapsed": false
   },
   "outputs": [
    {
     "data": {
      "text/plain": [
       "{1, 2}"
      ]
     },
     "execution_count": 187,
     "metadata": {},
     "output_type": "execute_result"
    }
   ],
   "source": [
    "set([len(data['comments']) for data in big_data if 'comments' in data])"
   ]
  },
  {
   "cell_type": "markdown",
   "metadata": {},
   "source": [
    "Apparently that's not always the case, sometimes there are 2 items in the list, let's see what that looks like..."
   ]
  },
  {
   "cell_type": "code",
   "execution_count": 188,
   "metadata": {
    "collapsed": false
   },
   "outputs": [
    {
     "name": "stdout",
     "output_type": "stream",
     "text": [
      "4\n",
      "[{u'data': [{u'can_remove': True,\n",
      "             u'created_time': u'2015-02-27T03:39:29+0000',\n",
      "             u'from': {u'id': u'10152465206977702', u'name': u'Peter Ho'},\n",
      "             u'id': u'1049191648441017',\n",
      "             u'like_count': 0,\n",
      "             u'message': u'Peter the slide share has 404 message?',\n",
      "             u'user_likes': False},\n",
      "            {u'can_remove': True,\n",
      "             u'created_time': u'2015-02-27T03:43:23+0000',\n",
      "             u'from': {u'id': u'10152075362431725',\n",
      "                       u'name': u'Tirath Ramdas'},\n",
      "             u'id': u'1049192758440906',\n",
      "             u'like_count': 0,\n",
      "             u'message': u'Works for me',\n",
      "             u'user_likes': False},\n",
      "            {u'can_remove': True,\n",
      "             u'created_time': u'2015-02-27T03:43:46+0000',\n",
      "             u'from': {u'id': u'10152934839784580', u'name': u'Peter Kua'},\n",
      "             u'id': u'1049192845107564',\n",
      "             u'like_count': 0,\n",
      "             u'message': u'works from side too Peter Ho',\n",
      "             u'message_tags': [{u'id': u'10152465206977702',\n",
      "                                u'length': 8,\n",
      "                                u'name': u'Peter Ho',\n",
      "                                u'offset': 20,\n",
      "                                u'type': u'user'}],\n",
      "             u'user_likes': False},\n",
      "            {u'can_remove': True,\n",
      "             u'created_time': u'2015-02-27T03:44:16+0000',\n",
      "             u'from': {u'id': u'10152465206977702', u'name': u'Peter Ho'},\n",
      "             u'id': u'1049193048440877',\n",
      "             u'like_count': 0,\n",
      "             u'message': u'Must be me then',\n",
      "             u'user_likes': False},\n",
      "            {u'can_remove': True,\n",
      "             u'created_time': u'2015-02-27T03:47:59+0000',\n",
      "             u'from': {u'id': u'10100974540589758',\n",
      "                       u'name': u'Daniel Jean-Pierre Riveong'},\n",
      "             u'id': u'1049194295107419',\n",
      "             u'like_count': 1,\n",
      "             u'message': u'Slideshare link doesn\\'t work for me. It looks like so: \"http://www.slideshare.net/p\\u2026/big-data-week-kuala-lumpur-2015\"',\n",
      "             u'user_likes': False},\n",
      "            {u'can_remove': True,\n",
      "             u'created_time': u'2015-02-27T03:48:21+0000',\n",
      "             u'from': {u'id': u'10100974540589758',\n",
      "                       u'name': u'Daniel Jean-Pierre Riveong'},\n",
      "             u'id': u'1049194378440744',\n",
      "             u'like_count': 1,\n",
      "             u'message': u'Clicking on the image works though.',\n",
      "             u'user_likes': False},\n",
      "            {u'can_remove': True,\n",
      "             u'created_time': u'2015-02-27T03:55:29+0000',\n",
      "             u'from': {u'id': u'10152415710124319',\n",
      "                       u'name': u'Ng Swee Meng'},\n",
      "             u'id': u'1049196715107177',\n",
      "             u'like_count': 0,\n",
      "             u'message': u'It feels different from the first one...',\n",
      "             u'user_likes': False},\n",
      "            {u'can_remove': True,\n",
      "             u'created_time': u'2015-02-27T04:06:48+0000',\n",
      "             u'from': {u'id': u'10202993457636721',\n",
      "                       u'name': u'Balaganesh Latchmanan'},\n",
      "             u'id': u'1049199875106861',\n",
      "             u'like_count': 0,\n",
      "             u'message': u'Murali Shankar',\n",
      "             u'message_tags': [{u'id': u'10152872458587148',\n",
      "                                u'length': 14,\n",
      "                                u'name': u'Murali Shankar',\n",
      "                                u'offset': 0,\n",
      "                                u'type': u'user'}],\n",
      "             u'user_likes': False},\n",
      "            {u'can_remove': True,\n",
      "             u'created_time': u'2015-02-27T04:19:25+0000',\n",
      "             u'from': {u'id': u'10152075362431725',\n",
      "                       u'name': u'Tirath Ramdas'},\n",
      "             u'id': u'1049203205106528',\n",
      "             u'like_count': 1,\n",
      "             u'message': u\"Ah, right, yes, the link in Peter's message somehow got mangled, but the link that Facebook extracted into the preview image does work :) so, just click on the image.\",\n",
      "             u'message_tags': [{u'id': u'10152934839784580',\n",
      "                                u'length': 5,\n",
      "                                u'name': u'Peter',\n",
      "                                u'offset': 28,\n",
      "                                u'type': u'user'}],\n",
      "             u'user_likes': False},\n",
      "            {u'can_remove': True,\n",
      "             u'created_time': u'2015-02-27T04:27:31+0000',\n",
      "             u'from': {u'id': u'10152528794631844',\n",
      "                       u'name': u'Sandra Hanchard'},\n",
      "             u'id': u'1049206171772898',\n",
      "             u'like_count': 1,\n",
      "             u'message': u'Here is the link again: http://www.slideshare.net/petekua/big-data-week-kuala-lumpur-2015',\n",
      "             u'user_likes': True},\n",
      "            {u'can_remove': True,\n",
      "             u'created_time': u'2015-02-27T04:36:10+0000',\n",
      "             u'from': {u'id': u'10152322247874367',\n",
      "                       u'name': u'Heislyc Loh'},\n",
      "             u'id': u'1049208688439313',\n",
      "             u'like_count': 0,\n",
      "             u'message': u'Support!',\n",
      "             u'user_likes': False},\n",
      "            {u'can_remove': True,\n",
      "             u'created_time': u'2015-02-27T04:46:50+0000',\n",
      "             u'from': {u'id': u'10152934839784580', u'name': u'Peter Kua'},\n",
      "             u'id': u'1049211788439003',\n",
      "             u'like_count': 1,\n",
      "             u'message': u'I corrected the mangled link :p',\n",
      "             u'user_likes': True},\n",
      "            {u'can_remove': True,\n",
      "             u'created_time': u'2015-02-27T05:01:58+0000',\n",
      "             u'from': {u'id': u'10152934839784580', u'name': u'Peter Kua'},\n",
      "             u'id': u'1049216228438559',\n",
      "             u'like_count': 1,\n",
      "             u'message': u'btw the 2-day expo is FOC',\n",
      "             u'user_likes': False},\n",
      "            {u'can_remove': True,\n",
      "             u'created_time': u'2015-02-27T06:39:24+0000',\n",
      "             u'from': {u'id': u'10155151622655483',\n",
      "                       u'name': u'Norhidayah Azman'},\n",
      "             u'id': u'1049240855102763',\n",
      "             u'like_count': 0,\n",
      "             u'message': u'how do we send proposals for thu/fri? any example proposals we could use as a guide?',\n",
      "             u'user_likes': False},\n",
      "            {u'can_remove': True,\n",
      "             u'created_time': u'2015-02-27T09:26:37+0000',\n",
      "             u'from': {u'id': u'10152934839784580', u'name': u'Peter Kua'},\n",
      "             u'id': u'1049283101765205',\n",
      "             u'like_count': 3,\n",
      "             u'message': u\"Norhidayah Azman we don't have a specific proposal template as it is free form. you can organize a bda workshop, demo, tutorial, hackathon, etc. let us know about it and we will work with you to make sure it gets maximim exposure and is a success.\",\n",
      "             u'message_tags': [{u'id': u'10155151622655483',\n",
      "                                u'length': 16,\n",
      "                                u'name': u'Norhidayah Azman',\n",
      "                                u'offset': 0,\n",
      "                                u'type': u'user'}],\n",
      "             u'user_likes': True},\n",
      "            {u'can_remove': True,\n",
      "             u'created_time': u'2015-02-27T09:40:43+0000',\n",
      "             u'from': {u'id': u'1102366916447454',\n",
      "                       u'name': u'S S Mohd Fauzi'},\n",
      "             u'id': u'1049286985098150',\n",
      "             u'like_count': 0,\n",
      "             u'message': u'Any opportunity for the researcher? i.e to discuss findings etc?',\n",
      "             u'user_likes': False},\n",
      "            {u'can_remove': True,\n",
      "             u'created_time': u'2015-02-27T16:28:55+0000',\n",
      "             u'from': {u'id': u'10152075362431725',\n",
      "                       u'name': u'Tirath Ramdas'},\n",
      "             u'id': u'1049460655080783',\n",
      "             u'like_count': 1,\n",
      "             u'message': u\"S S Mohd Fauzi last year UTAR organised a data mining workshop: http://www.utar.edu.my/econtent_sub.jsp?fcatid=16&fcontentid=10554. IMHO there is certainly room for an academic component to the week. I don't know if UTAR will be doing it again, but I hope some academic institution will do something.\",\n",
      "             u'message_tags': [{u'id': u'1102366916447454',\n",
      "                                u'length': 14,\n",
      "                                u'name': u'S S Mohd Fauzi',\n",
      "                                u'offset': 0,\n",
      "                                u'type': u'user'}],\n",
      "             u'user_likes': False},\n",
      "            {u'can_remove': True,\n",
      "             u'created_time': u'2015-02-27T16:48:26+0000',\n",
      "             u'from': {u'id': u'10155151622655483',\n",
      "                       u'name': u'Norhidayah Azman'},\n",
      "             u'id': u'1049468408413341',\n",
      "             u'like_count': 4,\n",
      "             u'message': u\"Funny u should say that Tirath :D\\nI'm a lecturer at USIM, Nilai, and I was thinking exactly along those lines - adding an academic component to BDW :)\\nI went to last year's BDW, and I'm keen to setup an event this year, but I'm a Big Data newbie myself! And we're a bit short on staff who can lead workshops and such. So I'm still mulling how best to proceed. I'm thinking a discussion panel of sorts. What would you guys like to see for an academic component to BDW?\",\n",
      "             u'message_tags': [{u'id': u'10152075362431725',\n",
      "                                u'length': 6,\n",
      "                                u'name': u'Tirath',\n",
      "                                u'offset': 24,\n",
      "                                u'type': u'user'}],\n",
      "             u'user_likes': False},\n",
      "            {u'can_remove': True,\n",
      "             u'created_time': u'2015-02-27T23:06:38+0000',\n",
      "             u'from': {u'id': u'10152528794631844',\n",
      "                       u'name': u'Sandra Hanchard'},\n",
      "             u'id': u'1049615545065294',\n",
      "             u'like_count': 1,\n",
      "             u'message': u'There were at least 4 Unis hosting events last year (UTAR, Taylors, Sunway, MMU) if I recall correctly. Norhidayah Azman how about a panel debating ethics / privacy / surveillance concerns of big data? Or access to big data by humanities fields / digitial methods / skill gaps / complementing big data with small data / societal problems that can or cant be addressed? Depends on background of your department I guess :)',\n",
      "             u'message_tags': [{u'id': u'10155151622655483',\n",
      "                                u'length': 16,\n",
      "                                u'name': u'Norhidayah Azman',\n",
      "                                u'offset': 104,\n",
      "                                u'type': u'user'}],\n",
      "             u'user_likes': False},\n",
      "            {u'can_remove': True,\n",
      "             u'created_time': u'2015-02-28T00:07:17+0000',\n",
      "             u'from': {u'id': u'10152075362431725',\n",
      "                       u'name': u'Tirath Ramdas'},\n",
      "             u'id': u'1049636835063165',\n",
      "             u'like_count': 3,\n",
      "             u'message': u\"I didn't attend the UTAR event, but from some feedback and their own report it is evident that the academics got an opportunity to present some of their students research findings (though I have no idea if they had a CFP or how exactly they picked speakers), so it was a good academic event, and Sandra is quite right, other academic institutions organised other things too, including Taylors. Taylors and UTAR both featured international speakers as well. MMU I believe hosted a hackathon, which they graciously opened to the public. There were so many things going on during BDW'14 that I might have forgotten some :)\\n\\nI think BDW would be a good time to organise such an academic event because you will get free promotional support, and also there will be some international guests who can attend your event. That said, I know the logistics are not trivial, so better start on it right now! In BDW'13 also there was interest in creating such a track, but it just could not come together due to the challenge of logistics.\\n\\nNorhidayah Azman if you are interested, I strongly urge you to chat with Peter Kua immediately to explore the idea - even if in the end tak jadi never mind, the important thing is to start very soon or there will be no way it can happen. By involving MDeC from the start at least they can reduce the odds of clashes for the time slot, and link you up with other interested parties.\",\n",
      "             u'message_tags': [{u'id': u'10155151622655483',\n",
      "                                u'length': 16,\n",
      "                                u'name': u'Norhidayah Azman',\n",
      "                                u'offset': 1026,\n",
      "                                u'type': u'user'},\n",
      "                               {u'id': u'10152934839784580',\n",
      "                                u'length': 9,\n",
      "                                u'name': u'Peter Kua',\n",
      "                                u'offset': 1099,\n",
      "                                u'type': u'user'}],\n",
      "             u'user_likes': False},\n",
      "            {u'can_remove': True,\n",
      "             u'created_time': u'2015-02-28T00:32:58+0000',\n",
      "             u'from': {u'id': u'10152934839784580', u'name': u'Peter Kua'},\n",
      "             u'id': u'1049645301728985',\n",
      "             u'like_count': 2,\n",
      "             u'message': u'Norhidayah Azman, you can download the BDWKL2014 post-mortem report and read about the various events hosted by the 4 universities. The link: http://bigdataanalytics.my/downloads/BDW2014-Post-Event-Report.pdf. We will be more than happy to work with you on your idea.',\n",
      "             u'message_tags': [{u'id': u'10155151622655483',\n",
      "                                u'length': 16,\n",
      "                                u'name': u'Norhidayah Azman',\n",
      "                                u'offset': 0,\n",
      "                                u'type': u'user'}],\n",
      "             u'user_likes': True},\n",
      "            {u'can_remove': True,\n",
      "             u'created_time': u'2015-02-28T00:37:21+0000',\n",
      "             u'from': {u'id': u'1102366916447454',\n",
      "                       u'name': u'S S Mohd Fauzi'},\n",
      "             u'id': u'1049646511728864',\n",
      "             u'like_count': 3,\n",
      "             u'message': u'Yeah, why not we organize BD workshop and do CFP (it is some kind of mini seminar to present findings related to big data). It is a good start to engage academicians with industry...',\n",
      "             u'user_likes': True},\n",
      "            {u'can_remove': True,\n",
      "             u'created_time': u'2015-02-28T00:37:21+0000',\n",
      "             u'from': {u'id': u'10152934839784580', u'name': u'Peter Kua'},\n",
      "             u'id': u'1049646515062197',\n",
      "             u'like_count': 1,\n",
      "             u'message': u'Tang Wern Tien',\n",
      "             u'message_tags': [{u'id': u'10153393479107259',\n",
      "                                u'length': 14,\n",
      "                                u'name': u'Tang Wern Tien',\n",
      "                                u'offset': 0,\n",
      "                                u'type': u'user'}],\n",
      "             u'user_likes': False},\n",
      "            {u'can_remove': True,\n",
      "             u'created_time': u'2015-02-28T00:45:50+0000',\n",
      "             u'from': {u'id': u'10152075362431725',\n",
      "                       u'name': u'Tirath Ramdas'},\n",
      "             u'id': u'1049649165061932',\n",
      "             u'like_count': 0,\n",
      "             u'message': u\"S S Mohd Fauzi that would be great, but I am mindful of the fact that there's not much time left, so maybe the CFP could be limited to abstracts for posters from students, with invited speakers? Or some other configuration...\",\n",
      "             u'message_tags': [{u'id': u'1102366916447454',\n",
      "                                u'length': 14,\n",
      "                                u'name': u'S S Mohd Fauzi',\n",
      "                                u'offset': 0,\n",
      "                                u'type': u'user'}],\n",
      "             u'user_likes': False},\n",
      "            {u'can_remove': True,\n",
      "             u'created_time': u'2015-02-28T00:51:42+0000',\n",
      "             u'from': {u'id': u'1102366916447454',\n",
      "                       u'name': u'S S Mohd Fauzi'},\n",
      "             u'id': u'1049652655061583',\n",
      "             u'like_count': 2,\n",
      "             u'message': u'Yes, considering the time left, CFP for abstract, posters would be great. But, where to start? I can come out with CFP.',\n",
      "             u'user_likes': True}],\n",
      "  u'paging': {u'cursors': {u'after': u'WTI5dGJXVnVkRjlqZFhKemIzSTZNVEEwT1RZMU1qWTFOVEEyTVRVNE16b3hOREkxTURnME56QXk=',\n",
      "                           u'before': u'WTI5dGJXVnVkRjlqZFhKemIzSTZNVEEwT1RFNU1UWTBPRFEwTVRBeE56b3hOREkxTURBNE16WTU='},\n",
      "              u'next': u'https://graph.facebook.com/v2.0/497068793653308_1049188861774629/comments?access_token=CAACEdEose0cBAAe7p7jqgiBC2WSxdVY24YgpnNob6a7fPEMP16LZBP2JUP99n7xqpu3C84g4X6pJ932ZA6JYwtHES6DfhKxKexqUkhdIYpU0ocN0Wozah4mzdtlTNhjwGj6xcPobZCvQbvLSIERbKFFtg2NpLyF6VCCe75U5oZBVsjzxxZAKC1c0CCwvGkGJUZAbKz6VzS3jnqckrwUfg7dGzQLnXQzU4ZD%0A&limit=25&after=WTI5dGJXVnVkRjlqZFhKemIzSTZNVEEwT1RZMU1qWTFOVEEyTVRVNE16b3hOREkxTURnME56QXk%3D'}},\n",
      " {u'data': [{u'can_remove': True,\n",
      "             u'created_time': u'2015-02-28T01:16:19+0000',\n",
      "             u'from': {u'id': u'10152322247874367',\n",
      "                       u'name': u'Heislyc Loh'},\n",
      "             u'id': u'1049659495060899',\n",
      "             u'like_count': 0,\n",
      "             u'message': u\"What's CFP?\",\n",
      "             u'user_likes': False},\n",
      "            {u'can_remove': True,\n",
      "             u'created_time': u'2015-02-28T01:17:37+0000',\n",
      "             u'from': {u'id': u'1102366916447454',\n",
      "                       u'name': u'S S Mohd Fauzi'},\n",
      "             u'id': u'1049660125060836',\n",
      "             u'like_count': 1,\n",
      "             u'message': u'Its is call for paper (CFP)',\n",
      "             u'user_likes': False},\n",
      "            {u'can_remove': True,\n",
      "             u'created_time': u'2015-02-28T01:27:27+0000',\n",
      "             u'from': {u'id': u'10152322247874367',\n",
      "                       u'name': u'Heislyc Loh'},\n",
      "             u'id': u'1049663078393874',\n",
      "             u'like_count': 2,\n",
      "             u'message': u'[yet to be concrete] I\\'d like to propose a pre-hackathon workshop, to work with data scientist and practitioners, data source providers and custodian (public & private), to work towards crunching / capturing / collecting a sample data sets, to prep. upcoming hackathon, e.g. AngelHack (June), BDA (MDeC-Q4) etc. Don\\'t have a framework yet, would like to invite inputs.\\n\\nRational:\\n1) You can\\'t just go straight into hackathon without much prep works for Big Data project, previous outcome doesn\\'t seems impactful enough to me\\n\\n2) It is a common challenge to look for relevant data sets for the purpose of hackathon\\n\\n3) Hackathon is essentially a project-based leaning activity\\n\\n4) I think this is useful to attract more data-driven developer and business manager interest\\n\\nIn a nutshell, we could see this as a \"dataset prep. workshop\"',\n",
      "             u'user_likes': False},\n",
      "            {u'can_remove': True,\n",
      "             u'created_time': u'2015-02-28T01:36:11+0000',\n",
      "             u'from': {u'id': u'10152528794631844',\n",
      "                       u'name': u'Sandra Hanchard'},\n",
      "             u'id': u'1049665565060292',\n",
      "             u'like_count': 2,\n",
      "             u'message': u\"Great idea Heislyc Loh In any quant analysis, a significant amount of work always goes into data preparation & it's important for quality of outputs/insights. If the workshop included showcasing a number of tools that can expedite data preparation; as well as discussion of sensitivities of using third-party data sources - that would be great contribution.\",\n",
      "             u'message_tags': [{u'id': u'10152322247874367',\n",
      "                                u'length': 11,\n",
      "                                u'name': u'Heislyc Loh',\n",
      "                                u'offset': 11,\n",
      "                                u'type': u'user'}],\n",
      "             u'user_likes': True},\n",
      "            {u'can_remove': True,\n",
      "             u'created_time': u'2015-02-28T02:41:23+0000',\n",
      "             u'from': {u'id': u'10152075362431725',\n",
      "                       u'name': u'Tirath Ramdas'},\n",
      "             u'id': u'1049687728391409',\n",
      "             u'like_count': 1,\n",
      "             u'message': u'S S Mohd Fauzi I think the starting point should be to figure out logistics options, in particular what suitable venues might be available when. That will be sufficient information for the initial CFP (e.g. if venue options are all in KL you can say \"venue TBD but within Kuala Lumpur\", and lock in a specific date as well), later you can update the CFP with the specific location and time, and then work out invited speaker spots, minimal F&B, and sponsorship requirements... best to discuss with MDeC and other who have expressed interest above!\\n\\nHeislyc Loh the pre-hackathon workshop idea is definitely a good one, as you say it\\'s an opportunity to pick up skills but also to form teams. It is something we tried to do in BDW\\'13, but unfortunately that year we decided to abort the hackathon idea because there was too much uncertainty around the date of the General Election (it looked like the GE could fall on the weekend we were planning to have the hackathon... turned out to be the week later, but we didn\\'t know that in time). Despite dropping the hackathon, the workshop still proceeded, thanks to Ng Swee Meng.\\n\\nAll good ideas everyone, you should push through with them! I wish I could help out more, but alas this year I am squarely in the NATO* category because I will most likely be overseas for the entire period. (*No Action, Talk Only :P)',\n",
      "             u'message_tags': [{u'id': u'1102366916447454',\n",
      "                                u'length': 14,\n",
      "                                u'name': u'S S Mohd Fauzi',\n",
      "                                u'offset': 0,\n",
      "                                u'type': u'user'},\n",
      "                               {u'id': u'10152322247874367',\n",
      "                                u'length': 11,\n",
      "                                u'name': u'Heislyc Loh',\n",
      "                                u'offset': 549,\n",
      "                                u'type': u'user'},\n",
      "                               {u'id': u'10152415710124319',\n",
      "                                u'length': 12,\n",
      "                                u'name': u'Ng Swee Meng',\n",
      "                                u'offset': 1110,\n",
      "                                u'type': u'user'}],\n",
      "             u'user_likes': False},\n",
      "            {u'can_remove': True,\n",
      "             u'created_time': u'2015-02-28T02:57:01+0000',\n",
      "             u'from': {u'id': u'10155151622655483',\n",
      "                       u'name': u'Norhidayah Azman'},\n",
      "             u'id': u'1049696108390571',\n",
      "             u'like_count': 3,\n",
      "             u'message': u\"My department does Information Security and Assurance, so we can gladly organize a panel on security/ethics/privacy/surveillance :D\\nI'm aware that there were other security tracks at BDW14, will there be any clashes this year?\\n\\nAbt CFPs, I'm open to inviting researchers to present their work - S S Mohd Fauzi I could ask my bosses if we could host your CFP. But it's unlikely the papers will be peer reviewed, let alone get published/indexed. Will this be ok?\",\n",
      "             u'message_tags': [{u'id': u'1102366916447454',\n",
      "                                u'length': 14,\n",
      "                                u'name': u'S S Mohd Fauzi',\n",
      "                                u'offset': 295,\n",
      "                                u'type': u'user'}],\n",
      "             u'user_likes': True},\n",
      "            {u'can_remove': True,\n",
      "             u'created_time': u'2015-02-28T03:00:39+0000',\n",
      "             u'from': {u'id': u'1102366916447454',\n",
      "                       u'name': u'S S Mohd Fauzi'},\n",
      "             u'id': u'1049699815056867',\n",
      "             u'like_count': 0,\n",
      "             u'message': u'That would be great a great start...',\n",
      "             u'user_likes': False},\n",
      "            {u'can_remove': True,\n",
      "             u'created_time': u'2015-02-28T03:01:12+0000',\n",
      "             u'from': {u'id': u'1102366916447454',\n",
      "                       u'name': u'S S Mohd Fauzi'},\n",
      "             u'id': u'1049701061723409',\n",
      "             u'like_count': 1,\n",
      "             u'message': u'Norhidayah Azman',\n",
      "             u'message_tags': [{u'id': u'10155151622655483',\n",
      "                                u'length': 16,\n",
      "                                u'name': u'Norhidayah Azman',\n",
      "                                u'offset': 0,\n",
      "                                u'type': u'user'}],\n",
      "             u'user_likes': False},\n",
      "            {u'can_remove': True,\n",
      "             u'created_time': u'2015-03-02T06:42:36+0000',\n",
      "             u'from': {u'id': u'10152075362431725',\n",
      "                       u'name': u'Tirath Ramdas'},\n",
      "             u'id': u'1050910038269178',\n",
      "             u'like_count': 0,\n",
      "             u'message': u\"Perhaps you could do a basic peer review just to ensure relevance, but maybe save novelty+impact scoring for next time. Since reviews can be done remotely I'd be happy to assist with that if it would help (I used to review CS papers years ago - rusty now, but hopefully a bit like riding a bike).\",\n",
      "             u'user_likes': False},\n",
      "            {u'can_remove': True,\n",
      "             u'created_time': u'2015-03-02T11:37:18+0000',\n",
      "             u'from': {u'id': u'10152184193128773',\n",
      "                       u'name': u'Norashikin Abdul Hamid'},\n",
      "             u'id': u'1051069438253238',\n",
      "             u'like_count': 1,\n",
      "             u'message': u\"what about free opportunity for newbies/startups to try out all the different tools related to big data and vendors providing support? \\nHi Peter Kua! Didn't get to catch up with you further on this topic :)\",\n",
      "             u'message_tags': [{u'id': u'10152934839784580',\n",
      "                                u'length': 9,\n",
      "                                u'name': u'Peter Kua',\n",
      "                                u'offset': 139,\n",
      "                                u'type': u'user'}],\n",
      "             u'user_likes': False},\n",
      "            {u'can_remove': True,\n",
      "             u'created_time': u'2015-03-03T14:40:26+0000',\n",
      "             u'from': {u'id': u'10155151622655483',\n",
      "                       u'name': u'Norhidayah Azman'},\n",
      "             u'id': u'1051719904854858',\n",
      "             u'like_count': 1,\n",
      "             u'message': u\"Sorry guys but it's a no go on my side - the date's too soon and there's too much paperwork to get everything done in time! :(\\nHowever, I'm very happy to pitch in and collaborate if anybody needs a hand with their events!\",\n",
      "             u'user_likes': True},\n",
      "            {u'can_remove': True,\n",
      "             u'created_time': u'2015-03-04T07:19:11+0000',\n",
      "             u'from': {u'id': u'10152075362431725',\n",
      "                       u'name': u'Tirath Ramdas'},\n",
      "             u'id': u'1052149544811894',\n",
      "             u'like_count': 0,\n",
      "             u'message': u\"Thanks for trying anyway Norhidayah Azman. I hope you and others are not too discouraged - although you are right that it will be very hard to organize in time for BDW'15, perhaps it could be organized as a standalone event slated for a few months after BDW'15? Say a small workshop with a minimal CFP component, then with more forward planning a full conference to coincide with BDW'16?\",\n",
      "             u'message_tags': [{u'id': u'10155151622655483',\n",
      "                                u'length': 16,\n",
      "                                u'name': u'Norhidayah Azman',\n",
      "                                u'offset': 25,\n",
      "                                u'type': u'user'}],\n",
      "             u'user_likes': False},\n",
      "            {u'can_remove': True,\n",
      "             u'created_time': u'2015-03-04T12:14:17+0000',\n",
      "             u'from': {u'id': u'10155151622655483',\n",
      "                       u'name': u'Norhidayah Azman'},\n",
      "             u'id': u'1052237138136468',\n",
      "             u'like_count': 2,\n",
      "             u'message': u\"Sounds good :) Do we already hv the dates for BDW'16? Gonna need to write up a kertas kerja asap :P\",\n",
      "             u'user_likes': True},\n",
      "            {u'can_remove': True,\n",
      "             u'created_time': u'2015-03-05T12:23:20+0000',\n",
      "             u'from': {u'id': u'10153393479107259',\n",
      "                       u'name': u'Tang Wern Tien'},\n",
      "             u'id': u'1052813858078796',\n",
      "             u'like_count': 4,\n",
      "             u'message': u\"Hi guys, If you are interested to explore on the prospect of hosting a partner event in this year's BDW, please drop me an email asap with your contact details and we can discuss from there. My email is werntien@mdec.com.my.\",\n",
      "             u'user_likes': False},\n",
      "            {u'can_remove': True,\n",
      "             u'created_time': u'2015-03-06T03:45:25+0000',\n",
      "             u'from': {u'id': u'10152934839784580', u'name': u'Peter Kua'},\n",
      "             u'id': u'1053171694709679',\n",
      "             u'like_count': 1,\n",
      "             u'message': u'Norhidayah Azman, no concrete dates for BDW16 yet, but it is usually held end Q1 or beginning Q2 :)',\n",
      "             u'message_tags': [{u'id': u'10155151622655483',\n",
      "                                u'length': 16,\n",
      "                                u'name': u'Norhidayah Azman',\n",
      "                                u'offset': 0,\n",
      "                                u'type': u'user'}],\n",
      "             u'user_likes': False}],\n",
      "  u'paging': {u'cursors': {u'after': u'WTI5dGJXVnVkRjlqZFhKemIzSTZNVEExTXpFM01UWTVORGN3T1RZM09Ub3hOREkxTmpFek5USTE=',\n",
      "                           u'before': u'WTI5dGJXVnVkRjlqZFhKemIzSTZNVEEwT1RZMU9UUTVOVEEyTURnNU9Ub3hOREkxTURnMk1UYzU='},\n",
      "              u'previous': u'https://graph.facebook.com/v2.0/497068793653308_1049188861774629/comments?limit=25&access_token=CAACEdEose0cBAAe7p7jqgiBC2WSxdVY24YgpnNob6a7fPEMP16LZBP2JUP99n7xqpu3C84g4X6pJ932ZA6JYwtHES6DfhKxKexqUkhdIYpU0ocN0Wozah4mzdtlTNhjwGj6xcPobZCvQbvLSIERbKFFtg2NpLyF6VCCe75U5oZBVsjzxxZAKC1c0CCwvGkGJUZAbKz6VzS3jnqckrwUfg7dGzQLnXQzU4ZD%0A&before=WTI5dGJXVnVkRjlqZFhKemIzSTZNVEEwT1RZMU9UUTVOVEEyTURnNU9Ub3hOREkxTURnMk1UYzU%3D'}}]\n"
     ]
    }
   ],
   "source": [
    "multi_item_comment_lists = [data['comments'] for data in big_data if ('comments' in data) and (len(data['comments']) > 1)]\n",
    "print len(multi_item_comment_lists)\n",
    "pprint.pprint(multi_item_comment_lists[0])"
   ]
  },
  {
   "cell_type": "markdown",
   "metadata": {},
   "source": [
    "Skimming the above it looks as though very long comment threads are split into multiple \"pages\" in the `comments` list. This may be an artifact of the paging code in `pull_feed.py`, which is not ideal. At some point we may fix it there, but for the time being we'll just consider it a data quality inconvenience that we will have to deal with.\n",
    "\n",
    "Here's a function to work around this annoyance:"
   ]
  },
  {
   "cell_type": "code",
   "execution_count": 189,
   "metadata": {
    "collapsed": false
   },
   "outputs": [
    {
     "name": "stdout",
     "output_type": "stream",
     "text": [
      "Post has 40 comments\n"
     ]
    }
   ],
   "source": [
    "def flatten_comments_pages(post):\n",
    "    flattened_comments = []\n",
    "    for page in post:\n",
    "        flattened_comments += page['data']\n",
    "    return flattened_comments\n",
    "\n",
    "post_comments_paged = multi_item_comment_lists[0]\n",
    "print \"Post has {} comments\".format(len(flatten_comments_pages(post_comments_paged)))"
   ]
  },
  {
   "cell_type": "markdown",
   "metadata": {},
   "source": [
    "## Start plotting things already dammit\n",
    "\n",
    "Now that we're counting comments, it's natural to ask: what does the number-of-comments-per-post distribution look like? "
   ]
  },
  {
   "cell_type": "code",
   "execution_count": 199,
   "metadata": {
    "collapsed": false
   },
   "outputs": [
    {
     "data": {
      "image/png": "[encoded data removed]",
      "text/plain": [
       "<matplotlib.figure.Figure at 0x1108cd390>"
      ]
     },
     "metadata": {},
     "output_type": "display_data"
    }
   ],
   "source": [
    "comments_threads = [data['comments'] for data in big_data if 'comments' in data]\n",
    "count_of_posts_with_no_comments = len(big_data) - len(comments_threads)\n",
    "comments_counts = [0] * count_of_posts_with_no_comments\n",
    "comments_counts += [len(flatten_comments_pages(thread)) for thread in comments_threads]\n",
    "\n",
    "import matplotlib.pyplot as plt\n",
    "plt.hist(comments_counts, bins=max(comments_counts))\n",
    "plt.title(\"Comments-per-post Histogram\")\n",
    "plt.xlabel(\"Comments per post\")\n",
    "plt.ylabel(\"Frequency\")\n",
    "plt.show()"
   ]
  },
  {
   "cell_type": "markdown",
   "metadata": {},
   "source": [
    "This sort of adds up intuitively; posts with long comment threads will be rare, though from experience with this forum it does not seem right to conclude that there is a lot of posting going on with no interaction... the community is a bit more engaged than that. \n",
    "\n",
    "But since this is Facebook, comments aren't the only way of interacting with a post. There's also the wonderful 'Like'."
   ]
  },
  {
   "cell_type": "code",
   "execution_count": 208,
   "metadata": {
    "collapsed": false
   },
   "outputs": [
    {
     "data": {
      "image/png": "[encoded data removed]",
      "text/plain": [
       "<matplotlib.figure.Figure at 0x115db6d90>"
      ]
     },
     "metadata": {},
     "output_type": "display_data"
    }
   ],
   "source": [
    "likes_threads = [data['likes']['data'] for data in big_data if 'likes' in data]\n",
    "count_of_posts_with_no_likes = len(big_data) - len(likes_threads)\n",
    "likes_counts = [0] * count_of_posts_with_no_likes\n",
    "likes_counts += [len(thread) for thread in likes_threads]\n",
    "\n",
    "import matplotlib.pyplot as plt\n",
    "plt.hist(likes_counts, bins=max(likes_counts))\n",
    "plt.title(\"Likes-per-post Histogram\")\n",
    "plt.xlabel(\"Likes per post\")\n",
    "plt.ylabel(\"Frequency\")\n",
    "plt.show()"
   ]
  },
  {
   "cell_type": "markdown",
   "metadata": {},
   "source": [
    "Note that the above does not include Likes on Comments made on posts; only Likes made on posts themselves are counted.\n",
    "\n",
    "While this paints the picture of a more engaged community, it still doesn't feel quite right. It feels like a rarity these days to find a post go by without a Like or two. \n",
    "\n",
    "TODO:\n",
    "* Get a list of only posts with 0 Likes and try to find out what's up with them\n",
    "* Pick out that post with 25 likes"
   ]
  }
 ],
 "metadata": {
  "kernelspec": {
   "display_name": "Python 2",
   "language": "python",
   "name": "python2"
  },
  "language_info": {
   "codemirror_mode": {
    "name": "ipython",
    "version": 2
   },
   "file_extension": ".py",
   "mimetype": "text/x-python",
   "name": "python",
   "nbconvert_exporter": "python",
   "pygments_lexer": "ipython2",
   "version": "2.7.6"
  }
 },
 "nbformat": 4,
 "nbformat_minor": 0
}
